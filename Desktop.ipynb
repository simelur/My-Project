{
 "cells": [
  {
   "cell_type": "code",
   "execution_count": 1,
   "id": "77be4507",
   "metadata": {},
   "outputs": [],
   "source": [
    "import pandas as pd\n",
    "import numpy as np\n",
    "import seaborn as sns\n",
    "import matplotlib.pyplot as plt\n",
    "from sklearn.model_selection import train_test_split, GridSearchCV\n",
    "from sklearn.model_selection import train_test_split\n",
    "from sklearn.ensemble import RandomForestClassifier\n",
    "from sklearn.metrics import accuracy_score, classification_report"
   ]
  },
  {
   "cell_type": "code",
   "execution_count": 2,
   "id": "18f3d870",
   "metadata": {},
   "outputs": [],
   "source": [
    "# Load your data (hypothetical file paths)\n",
    "wv = pd.read_csv('5DATA.csv')  # Spectral data with columns wv1, wv2, ..., wvN\n",
    "spad_data = pd.read_csv('5DATA.csv')  # SPAD data with a single column 'SPAD'"
   ]
  },
  {
   "cell_type": "code",
   "execution_count": 3,
   "id": "be52a167",
   "metadata": {
    "scrolled": false
   },
   "outputs": [
    {
     "name": "stdout",
     "output_type": "stream",
     "text": [
      "wv1       0\n",
      "wv 2      0\n",
      "wv3       0\n",
      "wv4       0\n",
      "wv5       0\n",
      "         ..\n",
      "wv1789    0\n",
      "wv1790    0\n",
      "wv1791    0\n",
      "wv1792    0\n",
      "spad      0\n",
      "Length: 1793, dtype: int64\n"
     ]
    }
   ],
   "source": [
    "# Check for missing values\n",
    "print(wv.isnull().sum())"
   ]
  },
  {
   "cell_type": "code",
   "execution_count": 4,
   "id": "81eb75ee",
   "metadata": {
    "scrolled": true
   },
   "outputs": [
    {
     "data": {
      "text/html": [
       "<div>\n",
       "<style scoped>\n",
       "    .dataframe tbody tr th:only-of-type {\n",
       "        vertical-align: middle;\n",
       "    }\n",
       "\n",
       "    .dataframe tbody tr th {\n",
       "        vertical-align: top;\n",
       "    }\n",
       "\n",
       "    .dataframe thead th {\n",
       "        text-align: right;\n",
       "    }\n",
       "</style>\n",
       "<table border=\"1\" class=\"dataframe\">\n",
       "  <thead>\n",
       "    <tr style=\"text-align: right;\">\n",
       "      <th></th>\n",
       "      <th>wv1</th>\n",
       "      <th>wv 2</th>\n",
       "      <th>wv3</th>\n",
       "      <th>wv4</th>\n",
       "      <th>wv5</th>\n",
       "      <th>wv6</th>\n",
       "      <th>wv7</th>\n",
       "      <th>wv8</th>\n",
       "      <th>wv9</th>\n",
       "      <th>wv10</th>\n",
       "      <th>...</th>\n",
       "      <th>wv1784</th>\n",
       "      <th>wv1785</th>\n",
       "      <th>wv1786</th>\n",
       "      <th>wv1787</th>\n",
       "      <th>wv1788</th>\n",
       "      <th>wv1789</th>\n",
       "      <th>wv1790</th>\n",
       "      <th>wv1791</th>\n",
       "      <th>wv1792</th>\n",
       "      <th>spad</th>\n",
       "    </tr>\n",
       "  </thead>\n",
       "  <tbody>\n",
       "    <tr>\n",
       "      <th>count</th>\n",
       "      <td>99.000000</td>\n",
       "      <td>99.000000</td>\n",
       "      <td>99.000000</td>\n",
       "      <td>99.000000</td>\n",
       "      <td>99.000000</td>\n",
       "      <td>99.000000</td>\n",
       "      <td>99.000000</td>\n",
       "      <td>99.000000</td>\n",
       "      <td>99.000000</td>\n",
       "      <td>99.000000</td>\n",
       "      <td>...</td>\n",
       "      <td>99.000000</td>\n",
       "      <td>99.000000</td>\n",
       "      <td>99.000000</td>\n",
       "      <td>99.000000</td>\n",
       "      <td>99.000000</td>\n",
       "      <td>99.000000</td>\n",
       "      <td>99.000000</td>\n",
       "      <td>99.000000</td>\n",
       "      <td>99.000000</td>\n",
       "      <td>99.000000</td>\n",
       "    </tr>\n",
       "    <tr>\n",
       "      <th>mean</th>\n",
       "      <td>6.358047</td>\n",
       "      <td>6.660348</td>\n",
       "      <td>6.906229</td>\n",
       "      <td>6.923614</td>\n",
       "      <td>6.589181</td>\n",
       "      <td>6.642817</td>\n",
       "      <td>6.932233</td>\n",
       "      <td>6.923793</td>\n",
       "      <td>6.655735</td>\n",
       "      <td>6.692088</td>\n",
       "      <td>...</td>\n",
       "      <td>46.793199</td>\n",
       "      <td>46.276801</td>\n",
       "      <td>46.420292</td>\n",
       "      <td>46.856846</td>\n",
       "      <td>46.594759</td>\n",
       "      <td>46.225432</td>\n",
       "      <td>46.272166</td>\n",
       "      <td>46.317149</td>\n",
       "      <td>45.945713</td>\n",
       "      <td>31.241313</td>\n",
       "    </tr>\n",
       "    <tr>\n",
       "      <th>std</th>\n",
       "      <td>2.450184</td>\n",
       "      <td>2.587438</td>\n",
       "      <td>2.737231</td>\n",
       "      <td>2.717674</td>\n",
       "      <td>2.587619</td>\n",
       "      <td>2.671072</td>\n",
       "      <td>2.801769</td>\n",
       "      <td>2.776750</td>\n",
       "      <td>2.635493</td>\n",
       "      <td>2.576869</td>\n",
       "      <td>...</td>\n",
       "      <td>21.649549</td>\n",
       "      <td>21.733446</td>\n",
       "      <td>21.727518</td>\n",
       "      <td>21.625214</td>\n",
       "      <td>21.764859</td>\n",
       "      <td>21.886222</td>\n",
       "      <td>21.869000</td>\n",
       "      <td>21.934898</td>\n",
       "      <td>22.072896</td>\n",
       "      <td>6.278641</td>\n",
       "    </tr>\n",
       "    <tr>\n",
       "      <th>min</th>\n",
       "      <td>2.690000</td>\n",
       "      <td>2.723333</td>\n",
       "      <td>2.723333</td>\n",
       "      <td>2.870000</td>\n",
       "      <td>2.720000</td>\n",
       "      <td>2.673333</td>\n",
       "      <td>2.893333</td>\n",
       "      <td>2.886667</td>\n",
       "      <td>2.660000</td>\n",
       "      <td>2.750000</td>\n",
       "      <td>...</td>\n",
       "      <td>20.640000</td>\n",
       "      <td>19.163333</td>\n",
       "      <td>19.550000</td>\n",
       "      <td>21.106667</td>\n",
       "      <td>20.760000</td>\n",
       "      <td>19.083333</td>\n",
       "      <td>19.643333</td>\n",
       "      <td>20.470000</td>\n",
       "      <td>18.496667</td>\n",
       "      <td>17.200000</td>\n",
       "    </tr>\n",
       "    <tr>\n",
       "      <th>25%</th>\n",
       "      <td>3.975000</td>\n",
       "      <td>4.091667</td>\n",
       "      <td>4.348333</td>\n",
       "      <td>4.486667</td>\n",
       "      <td>4.210000</td>\n",
       "      <td>4.120000</td>\n",
       "      <td>4.400000</td>\n",
       "      <td>4.410000</td>\n",
       "      <td>4.200000</td>\n",
       "      <td>4.238333</td>\n",
       "      <td>...</td>\n",
       "      <td>27.691667</td>\n",
       "      <td>27.560000</td>\n",
       "      <td>27.478333</td>\n",
       "      <td>27.521667</td>\n",
       "      <td>27.203333</td>\n",
       "      <td>27.225000</td>\n",
       "      <td>27.180000</td>\n",
       "      <td>26.671667</td>\n",
       "      <td>26.451667</td>\n",
       "      <td>26.650000</td>\n",
       "    </tr>\n",
       "    <tr>\n",
       "      <th>50%</th>\n",
       "      <td>6.325556</td>\n",
       "      <td>6.938889</td>\n",
       "      <td>7.076667</td>\n",
       "      <td>6.997778</td>\n",
       "      <td>6.502222</td>\n",
       "      <td>6.736667</td>\n",
       "      <td>6.927778</td>\n",
       "      <td>6.911111</td>\n",
       "      <td>6.540000</td>\n",
       "      <td>6.538889</td>\n",
       "      <td>...</td>\n",
       "      <td>44.620000</td>\n",
       "      <td>43.736667</td>\n",
       "      <td>43.910000</td>\n",
       "      <td>44.426667</td>\n",
       "      <td>44.073333</td>\n",
       "      <td>43.856667</td>\n",
       "      <td>44.016667</td>\n",
       "      <td>44.190000</td>\n",
       "      <td>44.123333</td>\n",
       "      <td>30.800000</td>\n",
       "    </tr>\n",
       "    <tr>\n",
       "      <th>75%</th>\n",
       "      <td>8.207222</td>\n",
       "      <td>8.446667</td>\n",
       "      <td>8.456667</td>\n",
       "      <td>8.441667</td>\n",
       "      <td>8.450000</td>\n",
       "      <td>8.520000</td>\n",
       "      <td>8.616667</td>\n",
       "      <td>8.648333</td>\n",
       "      <td>8.606667</td>\n",
       "      <td>8.645000</td>\n",
       "      <td>...</td>\n",
       "      <td>54.924444</td>\n",
       "      <td>54.632222</td>\n",
       "      <td>54.692778</td>\n",
       "      <td>54.938333</td>\n",
       "      <td>54.817222</td>\n",
       "      <td>54.648333</td>\n",
       "      <td>54.706111</td>\n",
       "      <td>54.753889</td>\n",
       "      <td>54.623333</td>\n",
       "      <td>37.500000</td>\n",
       "    </tr>\n",
       "    <tr>\n",
       "      <th>max</th>\n",
       "      <td>12.201111</td>\n",
       "      <td>13.646667</td>\n",
       "      <td>15.008889</td>\n",
       "      <td>15.252222</td>\n",
       "      <td>14.128889</td>\n",
       "      <td>14.355556</td>\n",
       "      <td>15.363333</td>\n",
       "      <td>15.263333</td>\n",
       "      <td>14.090000</td>\n",
       "      <td>13.826667</td>\n",
       "      <td>...</td>\n",
       "      <td>106.491111</td>\n",
       "      <td>106.148889</td>\n",
       "      <td>106.332222</td>\n",
       "      <td>106.667778</td>\n",
       "      <td>106.666667</td>\n",
       "      <td>106.353333</td>\n",
       "      <td>106.357778</td>\n",
       "      <td>106.508889</td>\n",
       "      <td>106.068889</td>\n",
       "      <td>42.200000</td>\n",
       "    </tr>\n",
       "  </tbody>\n",
       "</table>\n",
       "<p>8 rows × 1793 columns</p>\n",
       "</div>"
      ],
      "text/plain": [
       "             wv1       wv 2        wv3        wv4        wv5        wv6  \\\n",
       "count  99.000000  99.000000  99.000000  99.000000  99.000000  99.000000   \n",
       "mean    6.358047   6.660348   6.906229   6.923614   6.589181   6.642817   \n",
       "std     2.450184   2.587438   2.737231   2.717674   2.587619   2.671072   \n",
       "min     2.690000   2.723333   2.723333   2.870000   2.720000   2.673333   \n",
       "25%     3.975000   4.091667   4.348333   4.486667   4.210000   4.120000   \n",
       "50%     6.325556   6.938889   7.076667   6.997778   6.502222   6.736667   \n",
       "75%     8.207222   8.446667   8.456667   8.441667   8.450000   8.520000   \n",
       "max    12.201111  13.646667  15.008889  15.252222  14.128889  14.355556   \n",
       "\n",
       "             wv7        wv8        wv9       wv10  ...      wv1784  \\\n",
       "count  99.000000  99.000000  99.000000  99.000000  ...   99.000000   \n",
       "mean    6.932233   6.923793   6.655735   6.692088  ...   46.793199   \n",
       "std     2.801769   2.776750   2.635493   2.576869  ...   21.649549   \n",
       "min     2.893333   2.886667   2.660000   2.750000  ...   20.640000   \n",
       "25%     4.400000   4.410000   4.200000   4.238333  ...   27.691667   \n",
       "50%     6.927778   6.911111   6.540000   6.538889  ...   44.620000   \n",
       "75%     8.616667   8.648333   8.606667   8.645000  ...   54.924444   \n",
       "max    15.363333  15.263333  14.090000  13.826667  ...  106.491111   \n",
       "\n",
       "           wv1785      wv1786      wv1787      wv1788      wv1789      wv1790  \\\n",
       "count   99.000000   99.000000   99.000000   99.000000   99.000000   99.000000   \n",
       "mean    46.276801   46.420292   46.856846   46.594759   46.225432   46.272166   \n",
       "std     21.733446   21.727518   21.625214   21.764859   21.886222   21.869000   \n",
       "min     19.163333   19.550000   21.106667   20.760000   19.083333   19.643333   \n",
       "25%     27.560000   27.478333   27.521667   27.203333   27.225000   27.180000   \n",
       "50%     43.736667   43.910000   44.426667   44.073333   43.856667   44.016667   \n",
       "75%     54.632222   54.692778   54.938333   54.817222   54.648333   54.706111   \n",
       "max    106.148889  106.332222  106.667778  106.666667  106.353333  106.357778   \n",
       "\n",
       "           wv1791      wv1792       spad  \n",
       "count   99.000000   99.000000  99.000000  \n",
       "mean    46.317149   45.945713  31.241313  \n",
       "std     21.934898   22.072896   6.278641  \n",
       "min     20.470000   18.496667  17.200000  \n",
       "25%     26.671667   26.451667  26.650000  \n",
       "50%     44.190000   44.123333  30.800000  \n",
       "75%     54.753889   54.623333  37.500000  \n",
       "max    106.508889  106.068889  42.200000  \n",
       "\n",
       "[8 rows x 1793 columns]"
      ]
     },
     "execution_count": 4,
     "metadata": {},
     "output_type": "execute_result"
    }
   ],
   "source": [
    "#Explore data statistics\n",
    "wv.describe()"
   ]
  },
  {
   "cell_type": "code",
   "execution_count": 5,
   "id": "cb1d33b5",
   "metadata": {},
   "outputs": [],
   "source": [
    "# Normalize spectral data\n",
    "wv_normalized = (wv- wv.mean()) / wv.std()"
   ]
  },
  {
   "cell_type": "code",
   "execution_count": 6,
   "id": "dee1bbd5",
   "metadata": {
    "scrolled": true
   },
   "outputs": [],
   "source": [
    "from sklearn.preprocessing import StandardScaler\n",
    "scaler = StandardScaler()\n",
    "standardized_wv = scaler.fit_transform(wv)"
   ]
  },
  {
   "cell_type": "code",
   "execution_count": 7,
   "id": "6d96fdea",
   "metadata": {
    "scrolled": false
   },
   "outputs": [],
   "source": [
    "# Apply Savitzky-Golay filter # smoothing\n",
    "from scipy.signal import savgol_filter\n",
    "smoothed_wv = savgol_filter(wv_normalized, window_length=11, polyorder=3, axis=0)"
   ]
  },
  {
   "cell_type": "code",
   "execution_count": 8,
   "id": "194bd032",
   "metadata": {},
   "outputs": [
    {
     "name": "stdout",
     "output_type": "stream",
     "text": [
      "wv1      -0.773454\n",
      "wv 2     -0.720017\n",
      "wv3      -0.652800\n",
      "wv4      -0.627090\n",
      "wv5      -0.676076\n",
      "            ...   \n",
      "wv1788   -0.398175\n",
      "wv1789   -0.402879\n",
      "wv1790   -0.402810\n",
      "wv1791   -0.403568\n",
      "wv1792   -0.413104\n",
      "Name: spad, Length: 1792, dtype: float64\n"
     ]
    }
   ],
   "source": [
    "# Calculate correlation coefficients\n",
    "correlation_matrix = wv.corr()\n",
    "spad_correlations = correlation_matrix['spad'].drop('spad')  # Exclude self-correlation\n",
    "\n",
    "# Display correlation values\n",
    "print(spad_correlations)"
   ]
  },
  {
   "cell_type": "code",
   "execution_count": 9,
   "id": "d209e3a3",
   "metadata": {},
   "outputs": [
    {
     "data": {
      "image/png": "[encoded data removed]",
      "text/plain": [
       "<Figure size 800x400 with 1 Axes>"
      ]
     },
     "metadata": {},
     "output_type": "display_data"
    }
   ],
   "source": [
    "# Bar plot of correlations\n",
    "plt.figure(figsize=(8, 4))\n",
    "spad_correlations.sort_values().plot(kind='barh')\n",
    "plt.title('Correlation between Spectral wavelengths and SPAD Values')\n",
    "plt.xlabel('Correlation Coefficient')\n",
    "plt.ylabel('Spectral wavelengths')\n",
    "plt.show()"
   ]
  },
  {
   "cell_type": "code",
   "execution_count": 10,
   "id": "76e30b7c",
   "metadata": {
    "scrolled": true
   },
   "outputs": [],
   "source": [
    "#Split data\n",
    "from sklearn.model_selection import train_test_split, GridSearchCV\n",
    "X = smoothed_wv\n",
    "y = spad_data['spad']\n",
    "X_train, X_test, y_train, y_test = train_test_split(X, y, test_size=0.2, random_state=170)"
   ]
  },
  {
   "cell_type": "code",
   "execution_count": 11,
   "id": "47937ef0",
   "metadata": {},
   "outputs": [],
   "source": [
    "# Train Random Forest Regressor\n",
    "from sklearn.ensemble import RandomForestRegressor\n",
    "from sklearn.metrics import mean_absolute_error, mean_squared_error, r2_score\n",
    "rf = RandomForestRegressor(n_estimators=60, random_state=50, max_depth =20, min_samples_split =10, min_samples_leaf = 12, max_features = 13)\n",
    "rf.fit(X_train, y_train)\n",
    "y_pred_rf = rf.predict(X_test)"
   ]
  },
  {
   "cell_type": "code",
   "execution_count": 12,
   "id": "103200b3",
   "metadata": {},
   "outputs": [],
   "source": [
    "# Evaluate models\n",
    "def evaluate_model(y_true, y_pred):\n",
    "    mae = mean_absolute_error(y_true, y_pred)\n",
    "    rmse = np.sqrt(mean_squared_error(y_true, y_pred))\n",
    "    r2 = r2_score(y_true, y_pred)\n",
    "    return mae, rmse, r2"
   ]
  },
  {
   "cell_type": "code",
   "execution_count": 13,
   "id": "33656bb8",
   "metadata": {},
   "outputs": [
    {
     "name": "stdout",
     "output_type": "stream",
     "text": [
      "Random Forest - MAE: 1.4060639921118958, RMSE: 1.988842503524345, R²: 0.8742511196287517\n"
     ]
    }
   ],
   "source": [
    "rf_metrics = evaluate_model(y_test, y_pred_rf)\n",
    "print(f\"Random Forest - MAE: {rf_metrics[0]}, RMSE: {rf_metrics[1]}, R²: {rf_metrics[2]}\")"
   ]
  },
  {
   "cell_type": "code",
   "execution_count": 14,
   "id": "1c443c78",
   "metadata": {},
   "outputs": [],
   "source": [
    "from sklearn.ensemble import RandomForestClassifier\n",
    "from sklearn.model_selection import GridSearchCV\n",
    "from sklearn.datasets import load_iris\n",
    "from sklearn.model_selection import train_test_split"
   ]
  },
  {
   "cell_type": "code",
   "execution_count": 15,
   "id": "c1d7c0ff",
   "metadata": {},
   "outputs": [
    {
     "ename": "ValueError",
     "evalue": "Unknown label type: 'continuous'",
     "output_type": "error",
     "traceback": [
      "\u001b[1;31m---------------------------------------------------------------------------\u001b[0m",
      "\u001b[1;31mValueError\u001b[0m                                Traceback (most recent call last)",
      "\u001b[1;32m~\\AppData\\Local\\Temp\\1\\ipykernel_18112\\766580849.py\u001b[0m in \u001b[0;36m<module>\u001b[1;34m\u001b[0m\n\u001b[0;32m      1\u001b[0m \u001b[1;31m# Initialize and train the RandomForestClassifier\u001b[0m\u001b[1;33m\u001b[0m\u001b[1;33m\u001b[0m\u001b[0m\n\u001b[0;32m      2\u001b[0m \u001b[0mclassifier\u001b[0m \u001b[1;33m=\u001b[0m \u001b[0mRandomForestClassifier\u001b[0m\u001b[1;33m(\u001b[0m\u001b[0mn_estimators\u001b[0m\u001b[1;33m=\u001b[0m\u001b[1;36m100\u001b[0m\u001b[1;33m,\u001b[0m \u001b[0mrandom_state\u001b[0m\u001b[1;33m=\u001b[0m\u001b[1;36m170\u001b[0m\u001b[1;33m)\u001b[0m\u001b[1;33m\u001b[0m\u001b[1;33m\u001b[0m\u001b[0m\n\u001b[1;32m----> 3\u001b[1;33m \u001b[0mclassifier\u001b[0m\u001b[1;33m.\u001b[0m\u001b[0mfit\u001b[0m\u001b[1;33m(\u001b[0m\u001b[0mX_train\u001b[0m\u001b[1;33m,\u001b[0m \u001b[0my_train\u001b[0m\u001b[1;33m)\u001b[0m\u001b[1;33m\u001b[0m\u001b[1;33m\u001b[0m\u001b[0m\n\u001b[0m",
      "\u001b[1;32mC:\\ProgramData\\Anaconda3\\lib\\site-packages\\sklearn\\ensemble\\_forest.py\u001b[0m in \u001b[0;36mfit\u001b[1;34m(self, X, y, sample_weight)\u001b[0m\n\u001b[0;32m    365\u001b[0m         \u001b[0mself\u001b[0m\u001b[1;33m.\u001b[0m\u001b[0mn_outputs_\u001b[0m \u001b[1;33m=\u001b[0m \u001b[0my\u001b[0m\u001b[1;33m.\u001b[0m\u001b[0mshape\u001b[0m\u001b[1;33m[\u001b[0m\u001b[1;36m1\u001b[0m\u001b[1;33m]\u001b[0m\u001b[1;33m\u001b[0m\u001b[1;33m\u001b[0m\u001b[0m\n\u001b[0;32m    366\u001b[0m \u001b[1;33m\u001b[0m\u001b[0m\n\u001b[1;32m--> 367\u001b[1;33m         \u001b[0my\u001b[0m\u001b[1;33m,\u001b[0m \u001b[0mexpanded_class_weight\u001b[0m \u001b[1;33m=\u001b[0m \u001b[0mself\u001b[0m\u001b[1;33m.\u001b[0m\u001b[0m_validate_y_class_weight\u001b[0m\u001b[1;33m(\u001b[0m\u001b[0my\u001b[0m\u001b[1;33m)\u001b[0m\u001b[1;33m\u001b[0m\u001b[1;33m\u001b[0m\u001b[0m\n\u001b[0m\u001b[0;32m    368\u001b[0m \u001b[1;33m\u001b[0m\u001b[0m\n\u001b[0;32m    369\u001b[0m         \u001b[1;32mif\u001b[0m \u001b[0mgetattr\u001b[0m\u001b[1;33m(\u001b[0m\u001b[0my\u001b[0m\u001b[1;33m,\u001b[0m \u001b[1;34m\"dtype\"\u001b[0m\u001b[1;33m,\u001b[0m \u001b[1;32mNone\u001b[0m\u001b[1;33m)\u001b[0m \u001b[1;33m!=\u001b[0m \u001b[0mDOUBLE\u001b[0m \u001b[1;32mor\u001b[0m \u001b[1;32mnot\u001b[0m \u001b[0my\u001b[0m\u001b[1;33m.\u001b[0m\u001b[0mflags\u001b[0m\u001b[1;33m.\u001b[0m\u001b[0mcontiguous\u001b[0m\u001b[1;33m:\u001b[0m\u001b[1;33m\u001b[0m\u001b[1;33m\u001b[0m\u001b[0m\n",
      "\u001b[1;32mC:\\ProgramData\\Anaconda3\\lib\\site-packages\\sklearn\\ensemble\\_forest.py\u001b[0m in \u001b[0;36m_validate_y_class_weight\u001b[1;34m(self, y)\u001b[0m\n\u001b[0;32m    732\u001b[0m \u001b[1;33m\u001b[0m\u001b[0m\n\u001b[0;32m    733\u001b[0m     \u001b[1;32mdef\u001b[0m \u001b[0m_validate_y_class_weight\u001b[0m\u001b[1;33m(\u001b[0m\u001b[0mself\u001b[0m\u001b[1;33m,\u001b[0m \u001b[0my\u001b[0m\u001b[1;33m)\u001b[0m\u001b[1;33m:\u001b[0m\u001b[1;33m\u001b[0m\u001b[1;33m\u001b[0m\u001b[0m\n\u001b[1;32m--> 734\u001b[1;33m         \u001b[0mcheck_classification_targets\u001b[0m\u001b[1;33m(\u001b[0m\u001b[0my\u001b[0m\u001b[1;33m)\u001b[0m\u001b[1;33m\u001b[0m\u001b[1;33m\u001b[0m\u001b[0m\n\u001b[0m\u001b[0;32m    735\u001b[0m \u001b[1;33m\u001b[0m\u001b[0m\n\u001b[0;32m    736\u001b[0m         \u001b[0my\u001b[0m \u001b[1;33m=\u001b[0m \u001b[0mnp\u001b[0m\u001b[1;33m.\u001b[0m\u001b[0mcopy\u001b[0m\u001b[1;33m(\u001b[0m\u001b[0my\u001b[0m\u001b[1;33m)\u001b[0m\u001b[1;33m\u001b[0m\u001b[1;33m\u001b[0m\u001b[0m\n",
      "\u001b[1;32mC:\\ProgramData\\Anaconda3\\lib\\site-packages\\sklearn\\utils\\multiclass.py\u001b[0m in \u001b[0;36mcheck_classification_targets\u001b[1;34m(y)\u001b[0m\n\u001b[0;32m    195\u001b[0m         \u001b[1;34m\"multilabel-sequences\"\u001b[0m\u001b[1;33m,\u001b[0m\u001b[1;33m\u001b[0m\u001b[1;33m\u001b[0m\u001b[0m\n\u001b[0;32m    196\u001b[0m     ]:\n\u001b[1;32m--> 197\u001b[1;33m         \u001b[1;32mraise\u001b[0m \u001b[0mValueError\u001b[0m\u001b[1;33m(\u001b[0m\u001b[1;34m\"Unknown label type: %r\"\u001b[0m \u001b[1;33m%\u001b[0m \u001b[0my_type\u001b[0m\u001b[1;33m)\u001b[0m\u001b[1;33m\u001b[0m\u001b[1;33m\u001b[0m\u001b[0m\n\u001b[0m\u001b[0;32m    198\u001b[0m \u001b[1;33m\u001b[0m\u001b[0m\n\u001b[0;32m    199\u001b[0m \u001b[1;33m\u001b[0m\u001b[0m\n",
      "\u001b[1;31mValueError\u001b[0m: Unknown label type: 'continuous'"
     ]
    }
   ],
   "source": [
    "# Initialize and train the RandomForestClassifier\n",
    "classifier = RandomForestClassifier(n_estimators=100, random_state=170)\n",
    "classifier.fit(X_train, y_train)"
   ]
  },
  {
   "cell_type": "code",
   "execution_count": null,
   "id": "deeffd87",
   "metadata": {},
   "outputs": [],
   "source": [
    "# Define the parameter grid\n",
    "param_grid = {\n",
    "    'n_estimators': [100, 200, 300],\n",
    "    'max_depth': [None, 10, 20, 30],\n",
    "    'min_samples_split': [2, 5, 10],\n",
    "    'min_samples_leaf': [1, 2, 4]\n",
    "}\n"
   ]
  },
  {
   "cell_type": "code",
   "execution_count": null,
   "id": "f36cb37f",
   "metadata": {
    "scrolled": false
   },
   "outputs": [],
   "source": [
    "# Set up the Grid Search with cross-validation\n",
    "grid_search = GridSearchCV(estimator=rf, param_grid=param_grid, cv=3, n_jobs=-1, verbose=2, scoring='neg_mean_squared_error')\n",
    "\n",
    "# Fit the grid search to the data\n",
    "grid_search.fit(X_train, y_train)\n",
    "\n",
    "# Get the best estimator\n",
    "best_rf = grid_search.best_estimator_\n",
    "\n",
    "# Predict on the test set\n",
    "y_pred = best_rf.predict(X_test)\n",
    "\n",
    "# Evaluate the model\n",
    "mse = mean_squared_error(y_test, y_pred)\n",
    "print(f\"Mean Squared Error: {mse}\")\n",
    "\n",
    "# Best parameters found by Grid Search\n",
    "print(\"Best Parameters found by Grid Search:\")\n",
    "print(grid_search.best_params_)\n"
   ]
  },
  {
   "cell_type": "code",
   "execution_count": null,
   "id": "55075bad",
   "metadata": {},
   "outputs": [],
   "source": [
    "# Evaluate models\n",
    "def evaluate_model(y_true, y_pred):\n",
    "    mae = mean_absolute_error(y_true, y_pred)\n",
    "    rmse = np.sqrt(mean_squared_error(y_true, y_pred))\n",
    "    r2 = r2_score(y_true, y_pred)\n",
    "    return mae, rmse, r2"
   ]
  },
  {
   "cell_type": "code",
   "execution_count": null,
   "id": "29b2b010",
   "metadata": {
    "scrolled": false
   },
   "outputs": [],
   "source": [
    "grid_search.fit(X_train, y_train)\n",
    "best_rf = grid_search.best_estimator_\n",
    "y_pred = best_rf.predict(X_test)\n",
    "mse = mean_squared_error(y_test, y_pred)\n",
    "print(f\"Mean Squared Error: {mse}\")"
   ]
  },
  {
   "cell_type": "code",
   "execution_count": null,
   "id": "f0d444df",
   "metadata": {},
   "outputs": [],
   "source": [
    "print(\"Best Parameters found by Grid Search:\")\n",
    "print(grid_search.best_params_)\n"
   ]
  },
  {
   "cell_type": "code",
   "execution_count": null,
   "id": "63d101f4",
   "metadata": {},
   "outputs": [],
   "source": [
    "# Feature importance for Random Forest\n",
    "importances = rf.feature_importances_\n",
    "indices = np.argsort(importances)[::-1]"
   ]
  },
  {
   "cell_type": "code",
   "execution_count": null,
   "id": "f65a88cf",
   "metadata": {},
   "outputs": [],
   "source": [
    "# Assuming y_train and y_test are your continuous SPAD values\n",
    "y_train = [10, 20, 30, 40, 50, 60, 80]\n",
    "y_test = [15, 25, 35, 45, 55, 65, 85]\n",
    "\n",
    "# Define thresholds for categorization\n",
    "threshold1 = 20\n",
    "threshold2 = 30\n",
    "threshold3 = 40\n",
    "threshold4 = 50\n",
    "\n",
    "# Define bin edges and labels\n",
    "bin_edges = [0, threshold1, threshold2, threshold4, float('inf')]\n",
    "bin_labels = ['low', 'medium','high', 'very high']"
   ]
  },
  {
   "cell_type": "code",
   "execution_count": null,
   "id": "19db1446",
   "metadata": {
    "scrolled": true
   },
   "outputs": [],
   "source": [
    "# Initialize and fit KBinsDiscretizer\n",
    "encoder = KBinsDiscretizer(n_bins=5, encode='ordinal', strategy='uniform')\n",
    "encoder.fit(pd.DataFrame(y_train))"
   ]
  },
  {
   "cell_type": "code",
   "execution_count": null,
   "id": "f27d0919",
   "metadata": {},
   "outputs": [],
   "source": [
    "# Transform y_train and y_test to categorical values\n",
    "y_train_class = encoder.transform(pd.DataFrame(y_train))\n",
    "y_test_class = encoder.transform(pd.DataFrame(y_test))"
   ]
  },
  {
   "cell_type": "code",
   "execution_count": null,
   "id": "a77f0dfd",
   "metadata": {},
   "outputs": [],
   "source": [
    "# Convert categorical values to labels\n",
    "y_train_labels = pd.cut(y_train, bins=bin_edges, labels=bin_labels)\n",
    "y_test_labels = pd.cut(y_test, bins=bin_edges, labels=bin_labels)\n",
    "\n",
    "# Now you can use y_train_class and y_test_class for classification\n",
    "# or use y_train_labels and y_test_labels for classification tasks"
   ]
  },
  {
   "cell_type": "code",
   "execution_count": null,
   "id": "c620af7d",
   "metadata": {},
   "outputs": [],
   "source": [
    "pip install xgboost"
   ]
  },
  {
   "cell_type": "code",
   "execution_count": null,
   "id": "910503de",
   "metadata": {
    "scrolled": true
   },
   "outputs": [],
   "source": [
    "import xgboost as xgb\n",
    "from sklearn.model_selection import train_test_split\n",
    "from sklearn.metrics import mean_absolute_error, mean_squared_error, r2_score"
   ]
  },
  {
   "cell_type": "code",
   "execution_count": null,
   "id": "e8dec763",
   "metadata": {},
   "outputs": [],
   "source": [
    "# Split the data\n",
    "X_train, X_test, y_train, y_test = train_test_split(X, y, test_size=0.3, random_state=170)"
   ]
  },
  {
   "cell_type": "code",
   "execution_count": null,
   "id": "1b4c67da",
   "metadata": {},
   "outputs": [],
   "source": []
  }
 ],
 "metadata": {
  "kernelspec": {
   "display_name": "Python 3 (ipykernel)",
   "language": "python",
   "name": "python3"
  },
  "language_info": {
   "codemirror_mode": {
    "name": "ipython",
    "version": 3
   },
   "file_extension": ".py",
   "mimetype": "text/x-python",
   "name": "python",
   "nbconvert_exporter": "python",
   "pygments_lexer": "ipython3",
   "version": "3.9.13"
  }
 },
 "nbformat": 4,
 "nbformat_minor": 5
}
